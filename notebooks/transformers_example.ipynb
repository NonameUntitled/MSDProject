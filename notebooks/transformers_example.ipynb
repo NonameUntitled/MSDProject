{
 "cells": [
  {
   "cell_type": "code",
   "execution_count": 1,
   "metadata": {},
   "outputs": [],
   "source": [
    "from datetime import datetime\n",
    "\n",
    "import torch\n",
    "import torch.nn as nn\n",
    "\n",
    "import os\n",
    "import sys\n",
    "\n",
    "module_path = os.path.abspath(os.path.join('..'))\n",
    "if module_path not in sys.path:\n",
    "    sys.path.append(module_path)\n",
    "\n",
    "from src.models import BaselineEncoder, Performer, PerformerAttention, InfinityFormerAttention"
   ]
  },
  {
   "cell_type": "code",
   "execution_count": 2,
   "metadata": {},
   "outputs": [],
   "source": [
    "device = 'cuda'\n",
    "\n",
    "hidden_size = 32\n",
    "num_heads = 2\n",
    "num_layers = 1\n",
    "dim_feedforward = 4 * 32\n",
    "\n",
    "bs = 4\n",
    "L = 2 ** 13\n",
    "\n",
    "x = torch.randn(bs, L, hidden_size, device=device)\n",
    "att = torch.randn(bs, L, device=device) > 0.5"
   ]
  },
  {
   "cell_type": "code",
   "execution_count": 3,
   "metadata": {},
   "outputs": [
    {
     "name": "stdout",
     "output_type": "stream",
     "text": [
      "torch.Size([4, 8192, 32])\n",
      "0:00:00.720032\n"
     ]
    }
   ],
   "source": [
    "attention = nn.MultiheadAttention(hidden_size, num_heads, batch_first=True)\n",
    "model = BaselineEncoder(attention, hidden_size, num_layers, dim_feedforward).to(device)\n",
    "\n",
    "start = datetime.now()\n",
    "print(model(x, att)[0].shape)\n",
    "print(datetime.now() - start)"
   ]
  },
  {
   "cell_type": "code",
   "execution_count": 4,
   "metadata": {},
   "outputs": [
    {
     "name": "stdout",
     "output_type": "stream",
     "text": [
      "torch.Size([4, 8192, 32])\n",
      "0:00:00.029000\n"
     ]
    }
   ],
   "source": [
    "attention = PerformerAttention(hidden_dim=hidden_size, num_heads=num_heads)\n",
    "model = BaselineEncoder(attention, hidden_size, num_layers, dim_feedforward).to(device)\n",
    "\n",
    "start = datetime.now()\n",
    "print(model(x, att)[0].shape)\n",
    "print(datetime.now() - start)"
   ]
  },
  {
   "cell_type": "code",
   "execution_count": 7,
   "metadata": {},
   "outputs": [
    {
     "name": "stdout",
     "output_type": "stream",
     "text": [
      "torch.Size([4, 8192, 32])\n",
      "0:00:00.157002\n"
     ]
    }
   ],
   "source": [
    "config = {\n",
    "    'head_size': hidden_size  // num_heads, \n",
    "    'length': L, \n",
    "    'target_len': 70, \n",
    "    'attn_func': 'softmax', \n",
    "    'attn_num_basis': 100, \n",
    "    'attn_drop': 0.1, \n",
    "    'infinite_memory': True, \n",
    "    'n_layers': num_layers, \n",
    "    'n_heads': num_heads, \n",
    "    'd_model': hidden_size, \n",
    "    'mask': True, \n",
    "    'mask_type': 'cnn', \n",
    "    'kl_regularizer': True, \n",
    "    'sigma_0': 0, \n",
    "    'mu_0': 0,\n",
    "    'share_mask': True,\n",
    "    'device': 'cpu'\n",
    "}\n",
    "\n",
    "attention = InfinityFormerAttention(**config)\n",
    "model = BaselineEncoder(attention, hidden_size, num_layers, dim_feedforward).to(device)\n",
    "\n",
    "start = datetime.now()\n",
    "print(model(x, att)[0].shape)\n",
    "print(datetime.now() - start)"
   ]
  },
  {
   "cell_type": "code",
   "execution_count": 8,
   "metadata": {},
   "outputs": [
    {
     "name": "stdout",
     "output_type": "stream",
     "text": [
      "0:00:00.786000\n"
     ]
    }
   ],
   "source": [
    "config = {\n",
    "    'dim': hidden_size,\n",
    "    'depth': 4,\n",
    "    'heads': num_heads,\n",
    "    'dim_head': hidden_size\n",
    "}\n",
    "\n",
    "start = datetime.now()\n",
    "Performer(**config).cuda()(x).shape\n",
    "print(datetime.now() - start)"
   ]
  }
 ],
 "metadata": {
  "kernelspec": {
   "display_name": "Python 3",
   "language": "python",
   "name": "python3"
  },
  "language_info": {
   "codemirror_mode": {
    "name": "ipython",
    "version": 3
   },
   "file_extension": ".py",
   "mimetype": "text/x-python",
   "name": "python",
   "nbconvert_exporter": "python",
   "pygments_lexer": "ipython3",
   "version": "3.8.9"
  },
  "orig_nbformat": 4,
  "vscode": {
   "interpreter": {
    "hash": "9c58ffa32c99c578e8acdfbbc3e57db633e36b9c510beace1b112c995cc0311f"
   }
  }
 },
 "nbformat": 4,
 "nbformat_minor": 2
}
